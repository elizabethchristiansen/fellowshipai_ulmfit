{
 "cells": [
  {
   "cell_type": "markdown",
   "metadata": {},
   "source": [
    "# Understanding my steps\n",
    "\n",
    "Throughout this notebook if I've had an idea of how to improve performance, or done some hyper parameter optimisation, I've left the best values in as opposed to leaving previous iterations of the code or training performance in the notebook. This is mainly to avoid code repetion and lengthy training times whenever the notebook is reloaded. Whenever I've done this I've mentioned in the text what I've tried and whether it was better or worse.\n",
    "\n",
    "For example, I found that including emojis in the tweets after preprocessing improved model performance so rather than running the code twice, one without emojis, I've only left the emoji-containing model.\n",
    "\n",
    "All choices to do with model hyperparameters or features are decided by performance on a validation set. The final scores I present at the end are all calulated on a test set, which has been neither trained on nor used to make model choices."
   ]
  },
  {
   "cell_type": "markdown",
   "metadata": {},
   "source": [
    "# Exploring the data\n",
    "\n",
    "Lets first import our data and have a look at it. We want to get a feel for how the dataset is distributed between the sentiment categories, whether we need to perform any normalization and what sort of metrics we have access to (for example, confidence).\n",
    "\n",
    "Additionally we want to explore what each tweet contains at the world level: is it already preprocessed (and if not, what kind of preprocessing may be necessary), does it contain emojis, foreign languages, twitter handles and that sort of thing.\n",
    "\n",
    "Lets import some tools to manage this, and the dataset itself."
   ]
  },
  {
   "cell_type": "code",
   "execution_count": 1,
   "metadata": {},
   "outputs": [
    {
     "data": {
      "text/html": [
       "<div>\n",
       "<style scoped>\n",
       "    .dataframe tbody tr th:only-of-type {\n",
       "        vertical-align: middle;\n",
       "    }\n",
       "\n",
       "    .dataframe tbody tr th {\n",
       "        vertical-align: top;\n",
       "    }\n",
       "\n",
       "    .dataframe thead th {\n",
       "        text-align: right;\n",
       "    }\n",
       "</style>\n",
       "<table border=\"1\" class=\"dataframe\">\n",
       "  <thead>\n",
       "    <tr style=\"text-align: right;\">\n",
       "      <th></th>\n",
       "      <th>tweet_id</th>\n",
       "      <th>airline_sentiment</th>\n",
       "      <th>airline_sentiment_confidence</th>\n",
       "      <th>negativereason</th>\n",
       "      <th>negativereason_confidence</th>\n",
       "      <th>airline</th>\n",
       "      <th>airline_sentiment_gold</th>\n",
       "      <th>name</th>\n",
       "      <th>negativereason_gold</th>\n",
       "      <th>retweet_count</th>\n",
       "      <th>text</th>\n",
       "      <th>tweet_coord</th>\n",
       "      <th>tweet_created</th>\n",
       "      <th>tweet_location</th>\n",
       "      <th>user_timezone</th>\n",
       "    </tr>\n",
       "  </thead>\n",
       "  <tbody>\n",
       "    <tr>\n",
       "      <th>0</th>\n",
       "      <td>570306133677760513</td>\n",
       "      <td>neutral</td>\n",
       "      <td>1.0000</td>\n",
       "      <td>NaN</td>\n",
       "      <td>NaN</td>\n",
       "      <td>Virgin America</td>\n",
       "      <td>NaN</td>\n",
       "      <td>cairdin</td>\n",
       "      <td>NaN</td>\n",
       "      <td>0</td>\n",
       "      <td>@VirginAmerica What @dhepburn said.</td>\n",
       "      <td>NaN</td>\n",
       "      <td>2015-02-24 11:35:52 -0800</td>\n",
       "      <td>NaN</td>\n",
       "      <td>Eastern Time (US &amp; Canada)</td>\n",
       "    </tr>\n",
       "    <tr>\n",
       "      <th>1</th>\n",
       "      <td>570301130888122368</td>\n",
       "      <td>positive</td>\n",
       "      <td>0.3486</td>\n",
       "      <td>NaN</td>\n",
       "      <td>0.0000</td>\n",
       "      <td>Virgin America</td>\n",
       "      <td>NaN</td>\n",
       "      <td>jnardino</td>\n",
       "      <td>NaN</td>\n",
       "      <td>0</td>\n",
       "      <td>@VirginAmerica plus you've added commercials t...</td>\n",
       "      <td>NaN</td>\n",
       "      <td>2015-02-24 11:15:59 -0800</td>\n",
       "      <td>NaN</td>\n",
       "      <td>Pacific Time (US &amp; Canada)</td>\n",
       "    </tr>\n",
       "    <tr>\n",
       "      <th>2</th>\n",
       "      <td>570301083672813571</td>\n",
       "      <td>neutral</td>\n",
       "      <td>0.6837</td>\n",
       "      <td>NaN</td>\n",
       "      <td>NaN</td>\n",
       "      <td>Virgin America</td>\n",
       "      <td>NaN</td>\n",
       "      <td>yvonnalynn</td>\n",
       "      <td>NaN</td>\n",
       "      <td>0</td>\n",
       "      <td>@VirginAmerica I didn't today... Must mean I n...</td>\n",
       "      <td>NaN</td>\n",
       "      <td>2015-02-24 11:15:48 -0800</td>\n",
       "      <td>Lets Play</td>\n",
       "      <td>Central Time (US &amp; Canada)</td>\n",
       "    </tr>\n",
       "    <tr>\n",
       "      <th>3</th>\n",
       "      <td>570301031407624196</td>\n",
       "      <td>negative</td>\n",
       "      <td>1.0000</td>\n",
       "      <td>Bad Flight</td>\n",
       "      <td>0.7033</td>\n",
       "      <td>Virgin America</td>\n",
       "      <td>NaN</td>\n",
       "      <td>jnardino</td>\n",
       "      <td>NaN</td>\n",
       "      <td>0</td>\n",
       "      <td>@VirginAmerica it's really aggressive to blast...</td>\n",
       "      <td>NaN</td>\n",
       "      <td>2015-02-24 11:15:36 -0800</td>\n",
       "      <td>NaN</td>\n",
       "      <td>Pacific Time (US &amp; Canada)</td>\n",
       "    </tr>\n",
       "    <tr>\n",
       "      <th>4</th>\n",
       "      <td>570300817074462722</td>\n",
       "      <td>negative</td>\n",
       "      <td>1.0000</td>\n",
       "      <td>Can't Tell</td>\n",
       "      <td>1.0000</td>\n",
       "      <td>Virgin America</td>\n",
       "      <td>NaN</td>\n",
       "      <td>jnardino</td>\n",
       "      <td>NaN</td>\n",
       "      <td>0</td>\n",
       "      <td>@VirginAmerica and it's a really big bad thing...</td>\n",
       "      <td>NaN</td>\n",
       "      <td>2015-02-24 11:14:45 -0800</td>\n",
       "      <td>NaN</td>\n",
       "      <td>Pacific Time (US &amp; Canada)</td>\n",
       "    </tr>\n",
       "  </tbody>\n",
       "</table>\n",
       "</div>"
      ],
      "text/plain": [
       "             tweet_id airline_sentiment  airline_sentiment_confidence  \\\n",
       "0  570306133677760513           neutral                        1.0000   \n",
       "1  570301130888122368          positive                        0.3486   \n",
       "2  570301083672813571           neutral                        0.6837   \n",
       "3  570301031407624196          negative                        1.0000   \n",
       "4  570300817074462722          negative                        1.0000   \n",
       "\n",
       "  negativereason  negativereason_confidence         airline  \\\n",
       "0            NaN                        NaN  Virgin America   \n",
       "1            NaN                     0.0000  Virgin America   \n",
       "2            NaN                        NaN  Virgin America   \n",
       "3     Bad Flight                     0.7033  Virgin America   \n",
       "4     Can't Tell                     1.0000  Virgin America   \n",
       "\n",
       "  airline_sentiment_gold        name negativereason_gold  retweet_count  \\\n",
       "0                    NaN     cairdin                 NaN              0   \n",
       "1                    NaN    jnardino                 NaN              0   \n",
       "2                    NaN  yvonnalynn                 NaN              0   \n",
       "3                    NaN    jnardino                 NaN              0   \n",
       "4                    NaN    jnardino                 NaN              0   \n",
       "\n",
       "                                                text tweet_coord  \\\n",
       "0                @VirginAmerica What @dhepburn said.         NaN   \n",
       "1  @VirginAmerica plus you've added commercials t...         NaN   \n",
       "2  @VirginAmerica I didn't today... Must mean I n...         NaN   \n",
       "3  @VirginAmerica it's really aggressive to blast...         NaN   \n",
       "4  @VirginAmerica and it's a really big bad thing...         NaN   \n",
       "\n",
       "               tweet_created tweet_location               user_timezone  \n",
       "0  2015-02-24 11:35:52 -0800            NaN  Eastern Time (US & Canada)  \n",
       "1  2015-02-24 11:15:59 -0800            NaN  Pacific Time (US & Canada)  \n",
       "2  2015-02-24 11:15:48 -0800      Lets Play  Central Time (US & Canada)  \n",
       "3  2015-02-24 11:15:36 -0800            NaN  Pacific Time (US & Canada)  \n",
       "4  2015-02-24 11:14:45 -0800            NaN  Pacific Time (US & Canada)  "
      ]
     },
     "execution_count": 1,
     "metadata": {},
     "output_type": "execute_result"
    }
   ],
   "source": [
    "import numpy as np\n",
    "import pandas as pd\n",
    "\n",
    "twitter_dataset = pd.read_csv( \"data/tweets.csv\" )\n",
    "twitter_dataset.head()"
   ]
  },
  {
   "cell_type": "markdown",
   "metadata": {},
   "source": [
    "`airline_sentiment` (Positive, Negative, Neutral) and `airline_sentiment_confidence` are our dependent variables and are obviously very important.\n",
    "\n",
    "`negative_reason` may allow for some interesting extensions to the model, such as predicting reason, but we will ignore this for now. \n",
    "\n",
    "`user_timezone`, `tweet_location`, `tweet_created` and `tweet_coord` could all potentially be predictors for sentiment - its not hard to imagine that a tweet in the early hours of the morning could suggest a negative sentiment, for example.\n",
    "\n",
    "`airline` could also be a predictor for sentiment. It's entirely plausible that people have biases against certain airlines because of experience or social media and this could influence the chance that any given tweet is negative. While this could improve performance on the task it could reduce its real world applicability as any analysis done by an airline company would be biased by their preexisting sentiment making it difficult to see new trends (or at least, any new trends would have a time delay).\n",
    "\n",
    "`name` and `retweet_count` could be used with the `airline_sentiment_confidence` measures to rate how reliable or seriously a tweet should be taken by a company using the model. Tweets from a twitter user who consistently posts negative reviews may not be data that you wish to include in your analysis since it could suggest somebody that complains no matter what which skews the analysis such that overall attitude towards you is lower than it actually is. Conversely, `retweet_count` could imply a more reliable opinion as each retweet esentially endorses that opinion. Having said all of this, `name` and `retweet_count` likely aren't useful in predicting sentiment of any one tweet (with `name`, we don't have enough data points for each user to generate a sentiment for them) and so we will ignore them.\n",
    "\n",
    "`text` is the body of the tweet and will make up the dataset used to fine tune our language model and the bulk of our sentiment prediction. It appears to be totally unprocessed so we will do that ourselves."
   ]
  },
  {
   "cell_type": "markdown",
   "metadata": {},
   "source": [
    "Lets have a look at how many datapoints we have for each sentiment category and how the confidence is distributed."
   ]
  },
  {
   "cell_type": "code",
   "execution_count": 2,
   "metadata": {},
   "outputs": [
    {
     "name": "stdout",
     "output_type": "stream",
     "text": [
      "pos counts: [(0.34, 71), (0.4, 0), (0.47, 0), (0.53, 0), (0.6, 384), (0.67, 392), (0.73, 0), (0.8, 0), (0.87, 1), (0.93, 1516)] 2363\n",
      "neg counts: [(0.34, 63), (0.41, 0), (0.47, 1), (0.54, 1), (0.6, 906), (0.67, 816), (0.74, 2), (0.8, 1), (0.87, 5), (0.93, 7386)] 9178\n",
      "neut counts: [(0.34, 102), (0.4, 0), (0.47, 0), (0.53, 0), (0.6, 730), (0.67, 718), (0.73, 0), (0.8, 0), (0.87, 1), (0.93, 1549)] 3099\n"
     ]
    }
   ],
   "source": [
    "pos_t = twitter_dataset.loc[twitter_dataset['airline_sentiment'] == 'positive']\n",
    "neg_t = twitter_dataset.loc[twitter_dataset['airline_sentiment'] == 'negative']\n",
    "neut_t = twitter_dataset.loc[twitter_dataset['airline_sentiment'] == 'neutral']\n",
    "\n",
    "for sentiment, values in { 'pos': pos_t, 'neg': neg_t, 'neut': neut_t }.items():\n",
    "    confidence = values['airline_sentiment_confidence'].to_numpy()\n",
    "    bins = np.linspace( confidence.min(), confidence.max(), 11 )\n",
    "    bin_counts = [ len( np.where( ( confidence >= i ) & ( confidence <= bins[n+1] ) )[0] ) for n, i in enumerate( bins[:-1] ) ]\n",
    "\n",
    "    print(  f'{sentiment} counts:', list( zip( np.round( bins[:-1], 2 ), bin_counts ) ), len( confidence ) )"
   ]
  },
  {
   "cell_type": "markdown",
   "metadata": {},
   "source": [
    "The vast majority of datapoints have at least 93% confidence for all sentiment categories and we don't find many data points until we go all the way down to 60-67% confidence. The lower the confidence of the datapoints we use, the more noise we introduce into the model which can potentially reduce our performance. \n",
    "\n",
    "As it turns out, only training on high confidence data does little to improve our performance and in some cases even makes it worse. This could be because there are comparitively few low confidence examples, so the performance we would gain in removing them is offset by the reduction in the amount of training data. Our assumption that low confidence = noise could also be flawed: low confidence predictions may still be quite accurate and so removing them takes away useful data.\n",
    "\n",
    "Perhaps a larger problem is the number of datapoints we have for each sentiment category. Negative sentiment dominates the dataset. This can lead to weaker performance when classifing the minority classes. Once again, we find that a simple downsampling approach (sample N examples from all categories where N is the size of the smallest category) actually hurts model performance. We perhaps need a more advanced resampling technique, or maybe the imbalance is not a problem. We do find that performance on the largest category (negative) is best but that is to be expected."
   ]
  },
  {
   "cell_type": "markdown",
   "metadata": {},
   "source": [
    "# Preprocessing the twitter dataset\n",
    "\n",
    "Lets load in the raw text of all the tweets so we can preprocess them for the language model. At this point, we don't need to split by sentiment category since the language model only cares for the structure of the language itself. We'll shuffle the data just in case there was any structure. Additionally, we want to add a special 'new field' token to the start of each tweet. Since the language model sees all tweets as one big block of text it is useful to let the model know when to 'forget' the context of the previous tweet (we borrow this idea from the fast.ai text preprocessing code, which we will use later to further preprocess the text)."
   ]
  },
  {
   "cell_type": "code",
   "execution_count": 3,
   "metadata": {},
   "outputs": [],
   "source": [
    "BOS = 'xxbos'\n",
    "\n",
    "tweets_pre = twitter_dataset[['text','airline_sentiment','airline_sentiment_confidence']].to_numpy()\n",
    "np.random.shuffle( tweets_pre )\n",
    "\n",
    "tweets = []\n",
    "for t_text, sentiment, confidence in tweets_pre:\n",
    "    tweets.append( [ f'{BOS} {t_text}', sentiment, confidence ] )\n",
    "    \n",
    "tweets = np.array( tweets )"
   ]
  },
  {
   "cell_type": "markdown",
   "metadata": {},
   "source": [
    "Now lets preprocess the text properly. We're going to use the fast.ai text preprocessing library since it offers us a bunch of useful built-in preprocessing steps and allows us to add in our own. We're also going to use the fast.ai library later on to train the language model as it has library support for ULMFiT (and the AWD-LSTM) so it makes sense to use the same library.\n",
    "\n",
    "We're going to use the default preprocessing steps from fast.ai which revolve around adding special tokens, or modifiers, instead of removing information. For example, in NLP you would usually lowercase everything since, to a language model, 'language' and 'Language' are two different words and would therefore have different training data, potentially reducing the model performance with both variations. Fast.ai circumvents this by lowercasing all words but adding a 'this word was uppercased' modifier token ('xxup') which the language model can learn the semantics of. There are a bunch of these tokens for different circumstances, I won't go in to all of them.\n",
    "\n",
    "We're going to borrow this idea for some domain-specific formatting that we wish to learn the semantics of. The earlier analysis of the tweet data showed a few things we need to deal with: emojis, misspelling, hashtags, mentions and urls.\n",
    "\n",
    "**Mentions** could be used to try and predict sentiment based off the sentiment of the person/tweet that is being responded to, but for now we're just going to remove them.\n",
    "\n",
    "**Emojis**, I predict, will be a very good predictor of sentiment with the caveat that sometimes people use emojis sarcastically to actually mean the opposite thing. Nevertheless, it would be useful to include these in the language model. Since there isn't a natural conversion between emojis and normal text, we won't use a modifier on these but instead will use the `emoji` library to convert them in to human-readable tokens of the form `:emoji_description:`, which the language model will just treat as another word to be learned.\n",
    "\n",
    "**Hashtags** are often just words, like '#annoyed', so we can format them as a word with a 'hashtag' modifier ('xxhst') that the language model will learn the semantics of. Hashtags which don't appear in normal text don't really benefit from this, as the hashtag modifier is just modifying a word we have little knowledge of. If the hashtag frequency is below the minimum frequency (which we will set later) then it'll be removed, otherwise there are likely enough examples that some semantics can be determined.\n",
    "\n",
    "**Miss-spellings** are an interesting one. Tweets, because of their short-form format, are likely written quite fast with comparitvely less care than some longer form documents and are also usually written with a mobile device. All of this, I think, leads to an increase in spelling errors. We want to remove these so our dataset is not split on the same word (same reason we lowercase everything) but you could argue that a misspell could correlate with sentiment - you're probably going to type _even faster_ and with more errors if you're angry. To take this in to account, we add a 'misspelled' modifier token ('xxmsp') before every corrected word. Its also possible that the spell corrections will reduce model accuracy, since no spell checker is perfect and sometimes miscorrects things. We can check this later on our validation set. For spell checking we're going to use the `jamspell` library.\n",
    "\n",
    "**URLs** could be followed and a secondary model predicts the sentiment of the followed link, but thats well beyond the scope of this task, so we'll remove URLs also."
   ]
  },
  {
   "cell_type": "code",
   "execution_count": 77,
   "metadata": {},
   "outputs": [],
   "source": [
    "import re\n",
    "import jamspell\n",
    "from emoji import demojize\n",
    "from fastai import text\n",
    "\n",
    "def get_all_emojis( t ):\n",
    "    t = demojize( ' '.join( t ) )\n",
    "    return list( set( re.findall( r'(:\\w+:)', t ) ) )\n",
    "\n",
    "HASHT = 'xxhst'\n",
    "MSPELL = 'xxmsp'\n",
    "\n",
    "special_tokens = text.defaults.text_spec_tok + [ HASHT, MSPELL ] + get_all_emojis( tweets[:,0] )\n",
    "special_tokens_set = set( special_tokens )\n",
    "\n",
    "def fix_spelling():\n",
    "    c = jamspell.TSpellCorrector()\n",
    "    c.LoadLangModel('data/en.bin')\n",
    "    \n",
    "    def _fix_spelling( t, ignore_hashtags = True, add_modifier = True ):    \n",
    "        res = []\n",
    "        skipnext = False\n",
    "        for token in t:\n",
    "            if ( token not in special_tokens_set ) and not skipnext:\n",
    "                token_fixed = c.FixFragment( token )\n",
    "                if token != token_fixed:\n",
    "                    if add_modifier:\n",
    "                        res.append( MSPELL )\n",
    "                    token = token_fixed\n",
    "\n",
    "            res.append( token )\n",
    "            skipnext = False\n",
    "\n",
    "            if ignore_hashtags and token == HASHT:\n",
    "                skipnext = True\n",
    "\n",
    "        return res\n",
    "    \n",
    "    return _fix_spelling\n",
    "    \n",
    "def demojify( t, remove = False ):\n",
    "    t = demojize( t )\n",
    "    if remove:\n",
    "        return re.sub( r'(:\\w+:)', '', t )\n",
    "    else:\n",
    "        return re.sub( r'(:\\w+:)', r' \\1 ', t )\n",
    "\n",
    "def modify_hashtags( t ):\n",
    "    return re.sub( r'#{1}(\\w+)', lambda m: f' {HASHT} {m.group(1)} '.lower().replace( '_', '' ), t )\n",
    "\n",
    "def remove_handles( t ):\n",
    "    return re.sub( r'@{1}(\\w{1}){1,15}', '', t )\n",
    "\n",
    "def remove_urls( t ):\n",
    "    return re.sub( r'((http)|(https))(:\\/\\/)((www\\.)?)([a-zA-Z0-9]+)((\\.[a-z]+)+)(\\/(\\w+))*(\\/?)', '', t )\n",
    "\n",
    "pre_rules = [ remove_handles, remove_urls, modify_hashtags, demojify ] + text.defaults.text_pre_rules\n",
    "post_rules = text.defaults.text_post_rules + [ fix_spelling() ]\n",
    "\n",
    "tokenizer = text.Tokenizer( pre_rules = pre_rules, post_rules = post_rules, special_cases = special_tokens )"
   ]
  },
  {
   "cell_type": "markdown",
   "metadata": {},
   "source": [
    "We find that emojis do help to improve model performance of the final model, as do removing handles and urls. Having said that though, these are small (1-2%) improvements and could be statistically irrelevant given our validation set size (10%=~1500 examples) and random sampling.\n",
    "\n",
    "Modifying hashtags and fixing spelling, surprisingly, have absolutely no effect on performance, either good or bad. I leave them here regardless, but they could (and likely should, to make the model simpler) be removed. \n",
    "\n",
    "Modified hashtags probably had no effect since for dictionary words, the word alone is enough to imply sentiment (e.g. #annoyed) and therefore the hashtag modifier doesn't learn much sentiment. For non-dictionary words, most of them probably got removed in the min_freq step (where we remove any tokens that have a frequency less than 2) and the few that remained did not contribute enough to the language model to drastically change the result.\n",
    "\n",
    "Fixing spelling could have counteracted itself by improving performance for correctly fixed words but then worsening performance on incorrectly fixed words. Perhaps with a more robust spell checker, taking in to account context, this could have been improved. Interestingly, the same idea used in ULMFiT - fine tuning on the target dataset - could also be applied to a spell checker. That way we could not only take in to account context (provided for by the LSTM) but also domain-specific misspellings. Could be an interesting extension to the project, however I don't think even a perfect spell checker would increase the model performance enough to warrant the effort."
   ]
  },
  {
   "cell_type": "code",
   "execution_count": 78,
   "metadata": {},
   "outputs": [],
   "source": [
    "from sklearn.model_selection import train_test_split\n",
    "\n",
    "def sample_equally( dataset, groupby_ind ):\n",
    "    dataset_pd = pd.DataFrame( dataset )\n",
    "\n",
    "    g = dataset_pd.groupby( groupby_ind )\n",
    "    g = pd.DataFrame( g.apply( lambda x: x.sample( g.size().min() ).reset_index( drop = True ) ) )\n",
    "\n",
    "    return g.to_numpy()\n",
    "\n",
    "tweets_tokenized = tokenizer._process_all_1( tweets[:,0] )\n",
    "tweets_all = np.array( [ [ tweets_tokenized[n], t[1], t[2] ] for n, t in enumerate( tweets ) ] )\n",
    "\n",
    "t_train, t_val_test = train_test_split( tweets_all, test_size = 0.2 )\n",
    "t_val, t_test = train_test_split( t_val_test, test_size = 0.5 )\n",
    "\n",
    "lm_train, lm_val = t_train[:,0], t_val[:,0]\n",
    "clas_train, clas_val, clas_test = t_train[:,0:2], t_val[:,0:2], t_test"
   ]
  },
  {
   "cell_type": "markdown",
   "metadata": {},
   "source": [
    "Now we can split the dataset in to the training (80%), validation (10%) and test (10%) sets. `train_test_split` will shuffle these so we can be doubly sure, with our shuffle earlier, that we eliminate any structure.\n",
    "\n",
    "We deliberately use 3 sets here since if we modify the parameters of the model based on validation set performance, we can inadvertently leak information back to the model which will bias our eventual score, almost as if we had overfit on the training set. To combat this, we only ever report final model performance on a test set, which we never optimise the model for.\n",
    "\n",
    "I've also included the `sample_equally` function which is used to downsample the dataset. Its use doesn't actually increase model performance so we avoid using it here."
   ]
  },
  {
   "cell_type": "markdown",
   "metadata": {},
   "source": [
    "Lets have a look at the text now that its been processed. We want to pay particular attention to the frequency of things like emojis and our custom modifier tags - are there enough examples to warrant their use or are they just added noise?"
   ]
  },
  {
   "cell_type": "code",
   "execution_count": 79,
   "metadata": {},
   "outputs": [
    {
     "name": "stdout",
     "output_type": "stream",
     "text": [
      "xxbos also checked email you have on file for me and it is correct\n",
      "xxbos this very pregnant lady 's hoping & & praying hubbys flight from xxup bwi gets off the ground ! i 'd like him to get here before baby does !\n",
      "xxbos xxup worst customer service ever ! ! !\n",
      "xxbos what you did was illegal and a breach of contract . i will be in touch but not through your \" customer feedback \"\n",
      "xxbos yes please ! i am newly married and trying to update my last name on a preexisting international flight ! xxmaj it seems so easy , but ...\n",
      "xxbos i have a xxmaj cancelled xxmaj flighted flight tomorrow morning and the 800 number did nothing ! xxmaj please ! i just want to go home !\n",
      "xxbos xxmaj thanks - it 's very helpful to understand that the reduced price seats that are sold at check - in have priority over the certificates .\n",
      "xxbos i dunno my travel information .. like what ?\n",
      "xxbos i 'll be impressed if i actually get a response ! :winking_face_with_tongue:\n",
      "xxbos xxmaj hey why automated call me and then hang up at 4:45 am ! ? ! xxmaj and why ca n't i reschedule xxmaj cancelled xxmaj flighted flights via web ! ? ! xxmaj come on ! ! !\n"
     ]
    }
   ],
   "source": [
    "for i in np.random.choice( lm_train, 10 ):\n",
    "    print( ' '.join( i ) )"
   ]
  },
  {
   "cell_type": "code",
   "execution_count": 80,
   "metadata": {
    "scrolled": true
   },
   "outputs": [
    {
     "name": "stdout",
     "output_type": "stream",
     "text": [
      "Special token counts:\n",
      "('xxmaj', 18114)\n",
      "('xxbos', 11712)\n",
      "('xxup', 5426)\n",
      "('xxhst', 2832)\n",
      "('xxmsp', 1517)\n",
      "('xxrep', 314)\n",
      "(':face_with_tears_of_joy:', 46)\n",
      "(':airplane:', 37)\n",
      "(':folded_hands:', 35)\n",
      "(':loudly_crying_face:', 34)\n",
      "(':thumbs_up:', 29)\n",
      "(':clapping_hands:', 26)\n",
      "(':red_heart:', 25)\n",
      "(':smiling_face_with_smiling_eyes:', 25)\n",
      "(':pouting_face:', 20)\n",
      "(':thumbs_down:', 16)\n",
      "(':beaming_face_with_smiling_eyes:', 16)\n",
      "(':weary_face:', 16)\n",
      "(':winking_face:', 16)\n",
      "(':unamused_face:', 16)\n",
      "(':victory_hand:', 15)\n",
      "(':grinning_face_with_big_eyes:', 15)\n",
      "(':crying_face:', 13)\n",
      "(':blue_heart:', 9)\n",
      "('xxwrep', 9)\n",
      "(':party_popper:', 8)\n",
      "(':growing_heart:', 8)\n",
      "(':grinning_face_with_smiling_eyes:', 8)\n",
      "(':pensive_face:', 7)\n",
      "(':raising_hands:', 7)\n",
      "(':confused_face:', 7)\n",
      "(':winking_face_with_tongue:', 6)\n",
      "(':ribbon:', 6)\n",
      "(':smiling_face:', 6)\n",
      "(':expressionless_face:', 6)\n",
      "(':face_with_steam_from_nose:', 5)\n",
      "(':grinning_face:', 5)\n",
      "(':eyes:', 5)\n",
      "(':smiling_face_with_sunglasses:', 5)\n",
      "(':disappointed_face:', 5)\n",
      "(':pile_of_poo:', 5)\n",
      "(':tired_face:', 4)\n",
      "(':two_hearts:', 4)\n",
      "(':palm_tree:', 4)\n",
      "(':hundred_points:', 4)\n",
      "(':angry_face:', 4)\n",
      "(':flushed_face:', 4)\n",
      "(':smirking_face:', 4)\n",
      "(':person_walking:', 4)\n",
      "(':tomato:', 4)\n",
      "(':broken_heart:', 3)\n",
      "(':heart_suit:', 3)\n",
      "(':sun_with_face:', 3)\n",
      "(':person_tipping_hand:', 3)\n",
      "(':sun:', 3)\n",
      "(':blue_circle:', 3)\n",
      "(':snowflake:', 3)\n",
      "(':neutral_face:', 3)\n",
      "(':confounded_face:', 3)\n",
      "(':heart_with_ribbon:', 3)\n",
      "(':face_blowing_a_kiss:', 3)\n",
      "(':sad_but_relieved_face:', 3)\n",
      "(':glowing_star:', 2)\n",
      "(':angry_face_with_horns:', 2)\n",
      "(':grinning_squinting_face:', 2)\n",
      "(':waving_hand:', 2)\n",
      "(':princess:', 2)\n",
      "(':snowman_without_snow:', 2)\n",
      "(':wine_glass:', 2)\n",
      "(':right_arrow_curving_up:', 2)\n",
      "(':oncoming_fist:', 2)\n",
      "(':downcast_face_with_sweat:', 2)\n",
      "(':purple_heart:', 2)\n",
      "(':goblin:', 2)\n",
      "(':watch:', 1)\n",
      "(':persevering_face:', 1)\n",
      "(':heart_with_arrow:', 1)\n",
      "(':seat:', 1)\n",
      "(':grinning_face_with_sweat:', 1)\n",
      "(':3:', 1)\n",
      "(':horse_face:', 1)\n",
      "(':sparkles:', 1)\n",
      "(':white_heavy_check_mark:', 1)\n",
      "(':cross_mark:', 1)\n",
      "(':sparkling_heart:', 1)\n",
      "(':zzz:', 1)\n",
      "(':face_with_open_mouth:', 1)\n",
      "(':heavy_check_mark:', 1)\n",
      "(':spouting_whale:', 1)\n",
      "(':face_savoring_food:', 1)\n",
      "(':grimacing_face:', 1)\n",
      "(':hot_beverage:', 1)\n",
      "(':sleepy_face:', 1)\n",
      "(':mobile_phone:', 1)\n",
      "(':face_screaming_in_fear:', 1)\n",
      "(':flexed_biceps:', 1)\n",
      "(':right_arrow_curving_down:', 1)\n",
      "\n",
      "Vocab count: 11891\n"
     ]
    }
   ],
   "source": [
    "from collections import Counter\n",
    "\n",
    "def list_special_tokens( counts ):\n",
    "    tokens = []\n",
    "    for i in counts:\n",
    "        if i[0] in special_tokens_set:\n",
    "            tokens.append( i )\n",
    "            \n",
    "    return tokens\n",
    "        \n",
    "token_counts = Counter( token for tweet in lm_train for token in tweet )\n",
    "\n",
    "print( 'Special token counts:' )\n",
    "for p in list_special_tokens( token_counts.most_common() ): print( p )\n",
    "    \n",
    "print( '\\nVocab count:', len( token_counts.most_common() ) )"
   ]
  },
  {
   "cell_type": "markdown",
   "metadata": {},
   "source": [
    "It seems there are a fair few emojis that only appeared once, but also a lot that appeared frequently. Our custom modifier tokens also were quite frequent (especially misspellings!) so there should be enough data to learn any semantic properties.\n",
    "\n",
    "Now we will set up the dataset to be fed in to the language model LSTM."
   ]
  },
  {
   "cell_type": "code",
   "execution_count": 81,
   "metadata": {},
   "outputs": [
    {
     "name": "stdout",
     "output_type": "stream",
     "text": [
      "Vocab count: 5636\n"
     ]
    }
   ],
   "source": [
    "from collections import defaultdict\n",
    "\n",
    "min_freq = 2\n",
    "\n",
    "itos = [ token for token, freq in token_counts.most_common() if freq >= min_freq ]\n",
    "itos.insert( 0, 'xxunk' )\n",
    "stoi = defaultdict( lambda: 0, { string: ind for ind, string in enumerate( itos ) } )\n",
    "\n",
    "tweets_train_lm = np.array( [ [ stoi[token] for token in tweet ] for tweet in lm_train ] )\n",
    "tweets_val_lm = np.array( [ [ stoi[token] for token in tweet ] for tweet in lm_val ] )\n",
    "\n",
    "print( 'Vocab count:', len( itos ) )"
   ]
  },
  {
   "cell_type": "markdown",
   "metadata": {},
   "source": [
    "`min_freq` is set to 2 as any token that only appears once will have an unreliable encoding, totally dependent on the one context it appeared in. \n",
    "\n",
    "We have quite a small vocab so training should be fast at least. For reference the WikiText-103 model which we're going to use next has a vocabulary of almost 300000."
   ]
  },
  {
   "cell_type": "markdown",
   "metadata": {},
   "source": [
    "# Pretraining a language model\n",
    "\n",
    "One of the key insights of the ULMFiT model is to pretrain the language model on a large, more general dataset and to then fine tune on the target dataset. The ULMFiT paper chose to use the WikiText-103 dataset which is a large collection of English language wikipedia articles. This dataset is a pretty universal dataset for the English language so I'm going to use it for this task as well. There exists pretrained AWD-LSTMs for this dataset which I will use as the basis for my language model. `language_model_learner` automatically downloads and loads these pretrained weights through the `AWD_LSTM` model.\n",
    "\n",
    "The big breakthroughs that made the ULMFiT approach so powerful, aside from the pretraining, are in how they deal with the fine tuning steps: triangular learning rates, discriminative fine-tuning, gradual unfreezing and the use of the AWD-LSTMs. This is all abstracted away when using the fast.ai library code which I won't explain as I'd just be repeating the paper."
   ]
  },
  {
   "cell_type": "code",
   "execution_count": 82,
   "metadata": {},
   "outputs": [],
   "source": [
    "vocab = text.transform.Vocab( itos )\n",
    "lm_db = text.data.TextLMDataBunch.from_ids( path = 'nn/lm/', vocab = vocab, train_ids = tweets_train_lm, valid_ids = tweets_val_lm)\n",
    "\n",
    "lm_learn = text.learner.language_model_learner( lm_db, text.models.AWD_LSTM, drop_mult = 0.3 )"
   ]
  },
  {
   "cell_type": "markdown",
   "metadata": {},
   "source": [
    "For the language model fine tuning, we generally stick to the default values given in the ULMFiT paper/fasti.ai tutorials. In particular, the `drop_mult` and `moms` arguments are left as default. Cycle length (`cyc_len`) and learning rate (`max_lr`) are optimised based on validation set performance (and the `lr_find()` function for learning rate) since our dataset is quite different to the IMDB dataset that ULMFiT was originally trained on. "
   ]
  },
  {
   "cell_type": "code",
   "execution_count": 83,
   "metadata": {},
   "outputs": [
    {
     "data": {
      "text/html": [],
      "text/plain": [
       "<IPython.core.display.HTML object>"
      ]
     },
     "metadata": {},
     "output_type": "display_data"
    },
    {
     "name": "stdout",
     "output_type": "stream",
     "text": [
      "LR Finder is complete, type {learner_name}.recorder.plot() to see the graph.\n",
      "Min numerical gradient: 6.92E-02\n"
     ]
    },
    {
     "data": {
      "image/png": "[encoded data removed]",
      "text/plain": [
       "<Figure size 432x288 with 1 Axes>"
      ]
     },
     "metadata": {
      "needs_background": "light"
     },
     "output_type": "display_data"
    }
   ],
   "source": [
    "lm_learn.lr_find()\n",
    "lm_learn.recorder.plot()"
   ]
  },
  {
   "cell_type": "code",
   "execution_count": 84,
   "metadata": {},
   "outputs": [
    {
     "data": {
      "text/html": [
       "Total time: 00:07 <p><table style='width:300px; margin-bottom:10px'>\n",
       "  <tr>\n",
       "    <th>epoch</th>\n",
       "    <th>train_loss</th>\n",
       "    <th>valid_loss</th>\n",
       "    <th>accuracy</th>\n",
       "  </tr>\n",
       "  <tr>\n",
       "    <th>1</th>\n",
       "    <th>5.330698</th>\n",
       "    <th>4.624245</th>\n",
       "    <th>0.211858</th>\n",
       "  </tr>\n",
       "</table>\n"
      ],
      "text/plain": [
       "<IPython.core.display.HTML object>"
      ]
     },
     "metadata": {},
     "output_type": "display_data"
    }
   ],
   "source": [
    "lm_learn.fit_one_cycle( cyc_len = 1, max_lr = 8e-03, moms = ( 0.8, 0.7 ) )"
   ]
  },
  {
   "cell_type": "code",
   "execution_count": 85,
   "metadata": {},
   "outputs": [
    {
     "data": {
      "text/html": [
       "Total time: 00:28 <p><table style='width:300px; margin-bottom:10px'>\n",
       "  <tr>\n",
       "    <th>epoch</th>\n",
       "    <th>train_loss</th>\n",
       "    <th>valid_loss</th>\n",
       "    <th>accuracy</th>\n",
       "  </tr>\n",
       "  <tr>\n",
       "    <th>1</th>\n",
       "    <th>4.379672</th>\n",
       "    <th>4.227728</th>\n",
       "    <th>0.239286</th>\n",
       "  </tr>\n",
       "  <tr>\n",
       "    <th>2</th>\n",
       "    <th>4.054000</th>\n",
       "    <th>3.910035</th>\n",
       "    <th>0.274721</th>\n",
       "  </tr>\n",
       "  <tr>\n",
       "    <th>3</th>\n",
       "    <th>3.722857</th>\n",
       "    <th>3.896523</th>\n",
       "    <th>0.280218</th>\n",
       "  </tr>\n",
       "</table>\n"
      ],
      "text/plain": [
       "<IPython.core.display.HTML object>"
      ]
     },
     "metadata": {},
     "output_type": "display_data"
    },
    {
     "data": {
      "image/png": "[encoded data removed]",
      "text/plain": [
       "<Figure size 432x288 with 1 Axes>"
      ]
     },
     "metadata": {
      "needs_background": "light"
     },
     "output_type": "display_data"
    }
   ],
   "source": [
    "lm_learn.unfreeze()\n",
    "\n",
    "lm_learn.fit_one_cycle( cyc_len = 3, max_lr = 3e-03, moms = ( 0.8, 0.7 ) )\n",
    "lm_learn.recorder.plot_losses()\n",
    "\n",
    "lm_learn.save_encoder( 'fine_tuned_enc' )"
   ]
  },
  {
   "cell_type": "markdown",
   "metadata": {},
   "source": [
    "Optimal `valid_loss` seems to hover between 3 and 4 epochs. We'll leave it at 4 here.\n",
    "\n",
    "Now we have our fine tuned language model, we can train our classifier."
   ]
  },
  {
   "cell_type": "markdown",
   "metadata": {},
   "source": [
    "# Training a classifier"
   ]
  },
  {
   "cell_type": "code",
   "execution_count": 86,
   "metadata": {},
   "outputs": [],
   "source": [
    "clas_train_tok, clas_train_lbl = clas_train[:,0], clas_train[:,1]\n",
    "clas_val_tok, clas_val_lbl = clas_val[:,0], clas_val[:,1]\n",
    "clas_test_tok = clas_test[:,0]\n",
    "\n",
    "clas_db = text.data.TextClasDataBunch.from_tokens( path = 'nn/lm/', vocab = vocab, trn_tok = clas_train_tok, val_tok = clas_val_tok, tst_tok = clas_test_tok, trn_lbls = clas_train_lbl, val_lbls = clas_val_lbl, min_freq = 2 )"
   ]
  },
  {
   "cell_type": "code",
   "execution_count": 87,
   "metadata": {},
   "outputs": [],
   "source": [
    "clas_learn = text.learner.text_classifier_learner( clas_db, text.models.AWD_LSTM, drop_mult = 0.5 )\n",
    "clas_learn.load_encoder( 'fine_tuned_enc' )"
   ]
  },
  {
   "cell_type": "markdown",
   "metadata": {},
   "source": [
    "Once again, we leave `drop_mult`, `moms` and `max_lr` at their default values, instead using our validation set to optimise for `cyc_len`."
   ]
  },
  {
   "cell_type": "code",
   "execution_count": 88,
   "metadata": {},
   "outputs": [
    {
     "data": {
      "text/html": [],
      "text/plain": [
       "<IPython.core.display.HTML object>"
      ]
     },
     "metadata": {},
     "output_type": "display_data"
    },
    {
     "name": "stdout",
     "output_type": "stream",
     "text": [
      "LR Finder is complete, type {learner_name}.recorder.plot() to see the graph.\n",
      "Min numerical gradient: 3.31E-02\n"
     ]
    },
    {
     "data": {
      "image/png": "[encoded data removed]",
      "text/plain": [
       "<Figure size 432x288 with 1 Axes>"
      ]
     },
     "metadata": {
      "needs_background": "light"
     },
     "output_type": "display_data"
    }
   ],
   "source": [
    "clas_learn.lr_find()\n",
    "clas_learn.recorder.plot()"
   ]
  },
  {
   "cell_type": "code",
   "execution_count": 89,
   "metadata": {},
   "outputs": [
    {
     "data": {
      "text/html": [
       "Total time: 00:18 <p><table style='width:300px; margin-bottom:10px'>\n",
       "  <tr>\n",
       "    <th>epoch</th>\n",
       "    <th>train_loss</th>\n",
       "    <th>valid_loss</th>\n",
       "    <th>accuracy</th>\n",
       "  </tr>\n",
       "  <tr>\n",
       "    <th>1</th>\n",
       "    <th>0.766171</th>\n",
       "    <th>0.564554</th>\n",
       "    <th>0.765027</th>\n",
       "  </tr>\n",
       "  <tr>\n",
       "    <th>2</th>\n",
       "    <th>0.726841</th>\n",
       "    <th>0.550908</th>\n",
       "    <th>0.762295</th>\n",
       "  </tr>\n",
       "  <tr>\n",
       "    <th>3</th>\n",
       "    <th>0.688291</th>\n",
       "    <th>0.540922</th>\n",
       "    <th>0.775273</th>\n",
       "  </tr>\n",
       "</table>\n"
      ],
      "text/plain": [
       "<IPython.core.display.HTML object>"
      ]
     },
     "metadata": {},
     "output_type": "display_data"
    }
   ],
   "source": [
    "clas_learn.fit_one_cycle( cyc_len = 3, max_lr = 1e-02, moms = ( 0.8, 0.7 ) )"
   ]
  },
  {
   "cell_type": "code",
   "execution_count": 90,
   "metadata": {},
   "outputs": [
    {
     "data": {
      "text/html": [
       "Total time: 00:28 <p><table style='width:300px; margin-bottom:10px'>\n",
       "  <tr>\n",
       "    <th>epoch</th>\n",
       "    <th>train_loss</th>\n",
       "    <th>valid_loss</th>\n",
       "    <th>accuracy</th>\n",
       "  </tr>\n",
       "  <tr>\n",
       "    <th>1</th>\n",
       "    <th>0.703883</th>\n",
       "    <th>0.541981</th>\n",
       "    <th>0.778005</th>\n",
       "  </tr>\n",
       "  <tr>\n",
       "    <th>2</th>\n",
       "    <th>0.657644</th>\n",
       "    <th>0.505638</th>\n",
       "    <th>0.795082</th>\n",
       "  </tr>\n",
       "  <tr>\n",
       "    <th>3</th>\n",
       "    <th>0.624557</th>\n",
       "    <th>0.488149</th>\n",
       "    <th>0.797131</th>\n",
       "  </tr>\n",
       "  <tr>\n",
       "    <th>4</th>\n",
       "    <th>0.617407</th>\n",
       "    <th>0.508540</th>\n",
       "    <th>0.787568</th>\n",
       "  </tr>\n",
       "</table>\n"
      ],
      "text/plain": [
       "<IPython.core.display.HTML object>"
      ]
     },
     "metadata": {},
     "output_type": "display_data"
    }
   ],
   "source": [
    "clas_learn.freeze_to( -2 )\n",
    "clas_learn.fit_one_cycle( cyc_len = 4, max_lr = slice( 1e-2/(2.6**4), 1e-2 ), moms = ( 0.8, 0.7 ) )"
   ]
  },
  {
   "cell_type": "code",
   "execution_count": 91,
   "metadata": {},
   "outputs": [
    {
     "data": {
      "text/html": [
       "Total time: 00:31 <p><table style='width:300px; margin-bottom:10px'>\n",
       "  <tr>\n",
       "    <th>epoch</th>\n",
       "    <th>train_loss</th>\n",
       "    <th>valid_loss</th>\n",
       "    <th>accuracy</th>\n",
       "  </tr>\n",
       "  <tr>\n",
       "    <th>1</th>\n",
       "    <th>0.584191</th>\n",
       "    <th>0.480091</th>\n",
       "    <th>0.816940</th>\n",
       "  </tr>\n",
       "  <tr>\n",
       "    <th>2</th>\n",
       "    <th>0.593061</th>\n",
       "    <th>0.458295</th>\n",
       "    <th>0.816257</th>\n",
       "  </tr>\n",
       "  <tr>\n",
       "    <th>3</th>\n",
       "    <th>0.514135</th>\n",
       "    <th>0.452296</th>\n",
       "    <th>0.822404</th>\n",
       "  </tr>\n",
       "</table>\n"
      ],
      "text/plain": [
       "<IPython.core.display.HTML object>"
      ]
     },
     "metadata": {},
     "output_type": "display_data"
    }
   ],
   "source": [
    "clas_learn.freeze_to( -3 )\n",
    "clas_learn.fit_one_cycle( cyc_len = 3, max_lr = slice( 5e-3/(2.6**4), 5e-3 ), moms = ( 0.8, 0.7 ) )"
   ]
  },
  {
   "cell_type": "code",
   "execution_count": 92,
   "metadata": {},
   "outputs": [
    {
     "data": {
      "text/html": [
       "Total time: 00:53 <p><table style='width:300px; margin-bottom:10px'>\n",
       "  <tr>\n",
       "    <th>epoch</th>\n",
       "    <th>train_loss</th>\n",
       "    <th>valid_loss</th>\n",
       "    <th>accuracy</th>\n",
       "  </tr>\n",
       "  <tr>\n",
       "    <th>1</th>\n",
       "    <th>0.502921</th>\n",
       "    <th>0.467433</th>\n",
       "    <th>0.818306</th>\n",
       "  </tr>\n",
       "  <tr>\n",
       "    <th>2</th>\n",
       "    <th>0.501923</th>\n",
       "    <th>0.452094</th>\n",
       "    <th>0.821721</th>\n",
       "  </tr>\n",
       "  <tr>\n",
       "    <th>3</th>\n",
       "    <th>0.509733</th>\n",
       "    <th>0.459230</th>\n",
       "    <th>0.814891</th>\n",
       "  </tr>\n",
       "  <tr>\n",
       "    <th>4</th>\n",
       "    <th>0.484913</th>\n",
       "    <th>0.454741</th>\n",
       "    <th>0.824454</th>\n",
       "  </tr>\n",
       "</table>\n"
      ],
      "text/plain": [
       "<IPython.core.display.HTML object>"
      ]
     },
     "metadata": {},
     "output_type": "display_data"
    }
   ],
   "source": [
    "clas_learn.unfreeze()\n",
    "clas_learn.fit_one_cycle( cyc_len = 4, max_lr = slice( 1e-3/(2.6**4), 1e-3 ), moms = ( 0.8, 0.7 ) )"
   ]
  },
  {
   "cell_type": "markdown",
   "metadata": {},
   "source": [
    "# An analysis of the results\n",
    "\n",
    "We're going to define a bunch of lists based on the test set. There aren't any built in functions (that I can find) for calculating metrics on test set data in fast.ai, so we'll do it manually. We also want to look at model confidence (probability for each class) and the confidence found in the twitter dataset itself.\n",
    "\n",
    "In the following analysis, class '0' means negative, class '1' neutral and class '2' positive."
   ]
  },
  {
   "cell_type": "code",
   "execution_count": 93,
   "metadata": {},
   "outputs": [
    {
     "name": "stdout",
     "output_type": "stream",
     "text": [
      "Test Accuracy: 0.819672131147541\n"
     ]
    }
   ],
   "source": [
    "from fastai import basic_data\n",
    "\n",
    "class_str_map = { 'negative': 0, 'neutral': 1, 'positive': 2 }\n",
    "test_pred = clas_learn.get_preds( ds_type = basic_data.DatasetType.Test, ordered = True )\n",
    "test_pred_class = [ np.argmax( i ) for i in test_pred[0].numpy() ]\n",
    "test_pred_class_p = [ i[np.argmax( i )] for i in test_pred[0].numpy() ]\n",
    "test_pred_truth = [ class_str_map[i] for i in clas_test[:,1] ]\n",
    "test_pred_truth_p = clas_test[:,2].astype( float )\n",
    "\n",
    "test_acc = np.average( [ int( pred == true ) for pred, true in zip( test_pred_class, test_pred_truth ) ] )\n",
    "print( 'Test Accuracy:', test_acc )"
   ]
  },
  {
   "cell_type": "markdown",
   "metadata": {},
   "source": [
    "And now we have our final accuracy on the test set, **82.0%**. Its quite difficult to find the accuracy of other models using this dataset. I have found a range of accuracy from 75% all the way up to 95%, although I can't comment on the reliability of those scores. Nevertheless, we have at least beat _some_ scores! \n",
    "\n",
    "Having said that though, accuracy is not a good metric for this task, especially since we know we have a class imbalance problem. Lets look at some others."
   ]
  },
  {
   "cell_type": "code",
   "execution_count": 94,
   "metadata": {},
   "outputs": [
    {
     "name": "stdout",
     "output_type": "stream",
     "text": [
      "Test accuracy on high (P>=0.85) confidence test data: 0.9078694817658349\n",
      "Test accuracy on high (P>=0.85) confidence model predictions: 0.9241025641025641\n"
     ]
    }
   ],
   "source": [
    "test_acc_conf_data = np.average( [ int( pred == true ) for pred, true, conf in zip( test_pred_class, test_pred_truth, test_pred_truth_p ) if conf >= 0.85 ] )\n",
    "test_acc_conf_model = np.average( [ int( pred == true ) for pred, true, conf in zip( test_pred_class, test_pred_truth, test_pred_class_p ) if conf >= 0.85 ] )\n",
    "print( 'Test accuracy on high (P>=0.85) confidence test data:', test_acc_conf_data )\n",
    "print( 'Test accuracy on high (P>=0.85) confidence model predictions:', test_acc_conf_model )"
   ]
  },
  {
   "cell_type": "markdown",
   "metadata": {},
   "source": [
    "Test accuracy on high confidence model predictions are obviously higher since we are only looking at predictions the model is sure of. Its not practically useful since we can't just decide to not predict a class based on a low prediction confidence.\n",
    "\n",
    "The test accuracy on high confidence test data (datapoints in the original dataset with high confidence) is a little more useful as it shows us the model performs much better on unambiguous datapoints (although, again, that was to be expected)."
   ]
  },
  {
   "cell_type": "code",
   "execution_count": 95,
   "metadata": {},
   "outputs": [
    {
     "name": "stdout",
     "output_type": "stream",
     "text": [
      "Average confidence for negative class: 0.89689\n",
      "Average confidence for neutral class: 0.7901\n",
      "Average confidence for positive class: 0.84029096\n"
     ]
    }
   ],
   "source": [
    "for k, v in class_str_map.items():\n",
    "    avg_conf_by_cls = np.average( [ conf for true, conf in zip( test_pred_truth, test_pred_class_p ) if true == v ] )\n",
    "    print( f'Average confidence for {k} class:', avg_conf_by_cls )"
   ]
  },
  {
   "cell_type": "markdown",
   "metadata": {},
   "source": [
    "We can see here that the model is a lot more confident predicting the negative class, which was to be expected given the class imbalance. More surprising is the difference in performance between neutral and positive classes. The dataset contained more neutral tweets than positive (the smallest class) which suggests some overall ambiguity in neutral tweets. Neutrality being the lack of any sentiment probably meant the classifier was more influenced by incorrect sentiment for a token as it did not have any other sentiment signals to drown out the noise (a negative tweet may have some positive words, but the negative sentiment words will be dominant, whereas for a neutral tweet a positive word will skew the whole tweet towards being positive).\n",
    "\n",
    "Its also possible that neutral tweets were just harder to label when constructing the dataset and so the quality of the neutral tweet data is reduced compared to positive and negative.\n",
    "\n",
    "Lets have a look at some more metrics. I created a class to handle different metrics used in creating confusion matrices, ROC curves and the like."
   ]
  },
  {
   "cell_type": "code",
   "execution_count": 96,
   "metadata": {},
   "outputs": [
    {
     "name": "stdout",
     "output_type": "stream",
     "text": [
      "Precision/Recall/F1:\n",
      "negative: 0.8630412890231621 0.9254859611231101 0.8931735278791036\n",
      "neutral: 0.7379912663755459 0.5522875816993464 0.6317757009345796\n",
      "positive: 0.71900826446281 0.75 0.7341772151898734\n"
     ]
    }
   ],
   "source": [
    "import matplotlib.pyplot as plt\n",
    "from fastai import basic_data\n",
    "import itertools\n",
    "from sklearn.metrics import roc_curve, auc\n",
    "\n",
    "class ConfusionMetrics:\n",
    "    def __init__( self, pred, truth, n_class = 3, class_names = None ):\n",
    "        self.pred = pred\n",
    "        self.truth = truth\n",
    "        self.n_class = n_class\n",
    "        self.class_names = class_names\n",
    "        self.predicted_as = np.zeros( ( n_class, n_class ) )\n",
    "        \n",
    "        self._bin_predictions()\n",
    "        \n",
    "    def _bin_predictions( self ):\n",
    "        for pred_i, truth_i in zip( self.pred, self.truth ):\n",
    "            self.predicted_as[truth_i][pred_i] += 1\n",
    "            \n",
    "    def _plot_matrix( self, c_matrix, class_names ):\n",
    "        ## plot code borrowed from https://scikit-learn.org/stable/auto_examples/model_selection/plot_confusion_matrix.html\n",
    "\n",
    "        plt.imshow( c_matrix, interpolation = 'nearest', cmap = plt.cm.Blues )\n",
    "        plt.colorbar()\n",
    "        tick_marks = np.arange( len( c_matrix ) )\n",
    "        plt.xticks( tick_marks, class_names, rotation = 45 )\n",
    "        plt.yticks( tick_marks, class_names )\n",
    "\n",
    "        thresh = c_matrix.max() / 2.\n",
    "        for i, j in itertools.product( range( c_matrix.shape[0] ), range( c_matrix.shape[1] ) ):\n",
    "            plt.text( j, i, format( c_matrix[i, j] ),\n",
    "                     horizontalalignment = \"center\",\n",
    "                     color = \"white\" if c_matrix[i, j] > thresh else \"black\" )\n",
    "\n",
    "        plt.ylabel( 'True label' )\n",
    "        plt.xlabel( 'Predicted label' )\n",
    "            \n",
    "    def confusion_matrix( self, normalized = False, plot = False ):\n",
    "        c_matrix = self.predicted_as\n",
    "        if normalized:\n",
    "            c_matrix = np.round( c_matrix / np.sum( c_matrix, axis = 1 ).reshape( 3, 1 ), 2 )\n",
    "            \n",
    "        if plot:\n",
    "            self._plot_matrix( c_matrix, self.class_names )\n",
    "        else:\n",
    "            return c_matrix\n",
    "            \n",
    "        \n",
    "class BinaryConfusionMetrics( ConfusionMetrics ):\n",
    "    def __init__( self, pred, truth, cls_prob = None, n_class = 3, class_names = None ):\n",
    "        super( BinaryConfusionMetrics, self ).__init__( pred, truth, n_class, class_names )\n",
    "        \n",
    "        self.cls_prob = cls_prob\n",
    "        self.metrics = np.zeros( ( n_class, 4 ) )  # [ tp, fn, fp, tn ] for each class\n",
    "        self._get_confusion_metrics()\n",
    "    \n",
    "    def _get_confusion_metrics( self ):\n",
    "        for cls in range( self.n_class ):\n",
    "            tp = self.predicted_as[cls][cls]\n",
    "            fp = np.sum( self.predicted_as[:, cls] ) - tp\n",
    "            fn = np.sum( self.predicted_as[cls] ) - tp\n",
    "            tn = np.sum( self.predicted_as ) - tp - fp - fn\n",
    "            self.metrics[cls] = [ tp, fn, fp, tn ]\n",
    "    \n",
    "    def recall( self, cls ):\n",
    "        return self.metrics[cls][0] / ( self.metrics[cls][0] + self.metrics[cls][1] )\n",
    "    \n",
    "    def precision( self, cls ):\n",
    "        return self.metrics[cls][0] / ( self.metrics[cls][0] + self.metrics[cls][2] )\n",
    "    \n",
    "    def f1( self, cls ):\n",
    "        return 2 * ( ( self.precision( cls ) * self.recall( cls ) ) / ( self.precision( cls ) + self.recall( cls ) ) )\n",
    "    \n",
    "    def confusion_matrix( self, cls, normalized = False, plot = False ):\n",
    "        c_matrix = self.metrics[cls].reshape( ( 2, 2 ) )\n",
    "        class_names = [ f'class {cls}', f'not class {cls}' ]\n",
    "        if normalized:\n",
    "            c_matrix = np.round( c_matrix / np.sum( c_matrix, axis = 1 ).reshape( 2, 1 ), 2 )\n",
    "            \n",
    "        if plot:\n",
    "            self._plot_matrix( c_matrix, class_names )\n",
    "        else:\n",
    "            return c_matrix\n",
    "        \n",
    "    def roc_curve( self, cls ):\n",
    "        ## borrowed from https://scikit-learn.org/stable/auto_examples/model_selection/plot_roc.html\n",
    "        binary_prob = self.cls_prob[:,cls]\n",
    "        \n",
    "        fpr, tpr, thresholds = roc_curve( y_true = self.truth, y_score = binary_prob, pos_label = cls )\n",
    "        roc_auc = auc( fpr, tpr )\n",
    "        \n",
    "        lw = 2\n",
    "        plt.plot( fpr, tpr, color = 'darkorange',\n",
    "                 lw = lw, label='ROC curve (area = %0.2f)' % roc_auc )\n",
    "        plt.plot( [0, 1], [0, 1], color = 'navy', lw = lw, linestyle = '--' )\n",
    "        plt.xlim( [0.0, 1.0] )\n",
    "        plt.ylim( [0.0, 1.05] )\n",
    "        plt.xlabel( 'False Positive Rate' )\n",
    "        plt.ylabel( 'True Positive Rate' )\n",
    "        plt.title( f'Class {cls} ROC Curve' )\n",
    "        plt.legend( loc = \"lower right\" )\n",
    "\n",
    "class_ind_map = [ 'negative', 'neutral', 'positive' ]\n",
    "metrics = ConfusionMetrics( test_pred_class, test_pred_truth, class_names = class_ind_map )\n",
    "b_metrics = BinaryConfusionMetrics( test_pred_class, test_pred_truth, cls_prob = test_pred[0].numpy() )\n",
    "\n",
    "print( 'Precision/Recall/F1:' )\n",
    "for i in range( 3 ):\n",
    "    print( f'{class_ind_map[i]}:', b_metrics.precision( i ), b_metrics.recall( i ), b_metrics.f1( i ) )"
   ]
  },
  {
   "cell_type": "markdown",
   "metadata": {},
   "source": [
    "As expected, negative sentiment dominates the precision and recall (and F1) metrics (likely) due to the dataset imbalance. I would argue this is not necessarily a bad thing: a real world application for this model could be an airline company trying to detect negative sentiment towards them so they can improve their PR response, respond quickly to some fast developing PR issue and the like. As such, they would prioritise detecting as much negative sentiment as possible (recall) so they don't miss anything and as accurately as possible (precision) so they don't waste their time.\n",
    "\n",
    "Positive comes up second again, probably for the same reasons detailed above. Interesting to note here that positive and neutral have similar precisions suggesting that, when the model does decide something is positive or neutral, its quite accurate. Neutral however falls down in recall by missing a lot of neutral responses. This, I would argue, is evidence that the neutral tweet sentiment is skewed towards the few noise words that appear in all tweets since it has no sentiment of its own to counteract this.\n",
    "\n",
    "The performance of negative is quite skewed by the dataset imbalance. We can see that a lot of the neutral tweets were missed (0.54 recall) which have to be absorbed by one of the other two classes. Since there are so many negative tweets, absorbing (for example) 50 neutral tweets when negative has (for example) 1000 will barely change the precision at all, which could explain why the precision for negative (and positive) is lower than its recall.\n",
    "\n",
    "We can plot some confusion matrices and ROC curves to further visualize this."
   ]
  },
  {
   "cell_type": "code",
   "execution_count": 97,
   "metadata": {},
   "outputs": [
    {
     "data": {
      "image/png": "[encoded data removed]",
      "text/plain": [
       "<Figure size 432x288 with 2 Axes>"
      ]
     },
     "metadata": {
      "needs_background": "light"
     },
     "output_type": "display_data"
    }
   ],
   "source": [
    "plt.figure()\n",
    "metrics.confusion_matrix( normalized = True, plot = True )\n",
    "plt.tight_layout()\n",
    "plt.show()"
   ]
  },
  {
   "cell_type": "markdown",
   "metadata": {},
   "source": [
    "It seems a lot of the neutral tweets are being absorbed by the negative sentiment. Its likely skewed toward sentiment because of the class imbalances ('neutral' words appear more in a negative context, purely due to the number of negative tweets, than otherwise so the language model has assigned them more negative sentiments). The same could be said for positive tweets to a lesser degree, but here the positive sentiment is strong enough that in most cases it can counteract the noise."
   ]
  },
  {
   "cell_type": "code",
   "execution_count": 98,
   "metadata": {},
   "outputs": [
    {
     "data": {
      "image/png": "[encoded data removed]",
      "text/plain": [
       "<Figure size 432x288 with 3 Axes>"
      ]
     },
     "metadata": {
      "needs_background": "light"
     },
     "output_type": "display_data"
    }
   ],
   "source": [
    "plt.figure()\n",
    "plt.subplot(2, 2, 1)\n",
    "b_metrics.confusion_matrix( 0, normalized = True, plot = True )\n",
    "plt.subplot(2, 2, 2)\n",
    "b_metrics.roc_curve( 0 )\n",
    "plt.tight_layout()\n",
    "plt.show()"
   ]
  },
  {
   "cell_type": "markdown",
   "metadata": {},
   "source": [
    "Just more details as to what we saw above: strong precision and recall metrics with a large amount of false positives likely oweing to the dataset imbalance."
   ]
  },
  {
   "cell_type": "code",
   "execution_count": 99,
   "metadata": {},
   "outputs": [
    {
     "data": {
      "image/png": "[encoded data removed]",
      "text/plain": [
       "<Figure size 432x288 with 3 Axes>"
      ]
     },
     "metadata": {
      "needs_background": "light"
     },
     "output_type": "display_data"
    }
   ],
   "source": [
    "plt.figure()\n",
    "plt.subplot(2, 2, 1)\n",
    "b_metrics.confusion_matrix( 1, normalized = True, plot = True )\n",
    "plt.subplot(2, 2, 2)\n",
    "b_metrics.roc_curve( 1 )\n",
    "plt.tight_layout()\n",
    "plt.show()"
   ]
  },
  {
   "cell_type": "markdown",
   "metadata": {},
   "source": [
    "The model seems to flip a coin whenever it comes across a neutral review but is at least sure when something isn't neutral. Weakest AUC score of the three, but still well above the random classifier line."
   ]
  },
  {
   "cell_type": "code",
   "execution_count": 100,
   "metadata": {},
   "outputs": [
    {
     "data": {
      "image/png": "[encoded data removed]",
      "text/plain": [
       "<Figure size 432x288 with 3 Axes>"
      ]
     },
     "metadata": {
      "needs_background": "light"
     },
     "output_type": "display_data"
    }
   ],
   "source": [
    "plt.figure()\n",
    "plt.subplot(2, 2, 1)\n",
    "b_metrics.confusion_matrix( 2, normalized = True, plot = True )\n",
    "plt.subplot(2, 2, 2)\n",
    "b_metrics.roc_curve( 2 )\n",
    "plt.tight_layout()\n",
    "plt.show()"
   ]
  },
  {
   "cell_type": "markdown",
   "metadata": {},
   "source": [
    "As was said earlier: strong precision, losing some recall to the negative dataset imbalance. Very low false positive rate and combined with the best AUC score suggests that the model is most accurate with positive tweets - what the model has determined corresponds with 'positive sentiment' is the most accurate (but a lower recall suggests it hasn't found all the positive sentiment)."
   ]
  },
  {
   "cell_type": "markdown",
   "metadata": {},
   "source": [
    "# Conclusions\n",
    "\n",
    "Ignoring the dataset imbalance, our model seems to predict negative and positive sentiment well. It struggles with neutral sentiment and this could be down to a number of things: dataset imbalance, low quality labeling, noise introduced by positive and negative sentiment words or something else entirely. In a real world scenario, the performance on negative sentiment is likely the most desired aspect of the model, so we've got that going for us.\n",
    "\n",
    "We could perhaps extend the model a number of ways. The most apparent would be applying the ULMFiT ideas - pretraining and fine tuning - to more state-of-the-art language model architectures. It seems the AWD-LSTM that was used currently competes evenly with other SotA approaches so this would be something that could be tackled as something new came out.\n",
    "\n",
    "The ULMFiT paper, and many other language model approaches, makes use of bidirectional training - learning the language forwards and backwards and ensembling the resultant classifiers. This could also be trivially applied to this model. I however lack the pretrained weights for a backwards trained WikiText-103 model and so have avoided it. \n",
    "\n",
    "Speaking of ensembling methods: there is a lot of extra data in the twitter dataset that I have neglected to use. Airline, time of day, tweet length and whatever 'airline_sentiment_gold' is (gold standard data? who knows!), to name a few. If we created a model for predicting sentiment using all these other features and ensembled it with our language model, we could potentially score even higher. The ensembling technique could also be applied to our neutral sentiment. Our model struggles with this and its possible that the model itself just isn't going to be good at that kind of classification - not all models are good at everything. If we could find a model that performed better on neutral data we could combine that with our language model and improve performance on our weakest class."
   ]
  }
 ],
 "metadata": {
  "kernelspec": {
   "display_name": "Python 3",
   "language": "python",
   "name": "python3"
  },
  "language_info": {
   "codemirror_mode": {
    "name": "ipython",
    "version": 3
   },
   "file_extension": ".py",
   "mimetype": "text/x-python",
   "name": "python",
   "nbconvert_exporter": "python",
   "pygments_lexer": "ipython3",
   "version": "3.6.7"
  }
 },
 "nbformat": 4,
 "nbformat_minor": 2
}
